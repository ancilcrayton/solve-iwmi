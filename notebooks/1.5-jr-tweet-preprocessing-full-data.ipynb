{
 "cells": [
  {
   "cell_type": "code",
   "execution_count": 1,
   "metadata": {},
   "outputs": [
    {
     "name": "stderr",
     "output_type": "stream",
     "text": [
      "[nltk_data] Downloading package vader_lexicon to\n",
      "[nltk_data]     /home/jaredross/nltk_data...\n",
      "[nltk_data]   Package vader_lexicon is already up-to-date!\n"
     ]
    }
   ],
   "source": [
    "import os\n",
    "import pandas as pd\n",
    "import numpy as np\n",
    "import preprocessor as prep\n",
    "from os.path import join\n",
    "from sqlite3 import connect\n",
    "import seaborn as sns; sns.set()\n",
    "import matplotlib.pyplot as plt\n",
    "from googletrans import Translator\n",
    "from nltk.corpus import stopwords\n",
    "from nltk.util import ngrams\n",
    "import nltk\n",
    "import string\n",
    "from src.data._transform import transform\n",
    "from src.data.preprocess import preprocessDataFrame\n",
    "from src.data._load_es import load_es\n",
    "\n",
    "pd.options.display.max_columns = None\n",
    "pd.options.display.max_rows = None\n",
    "project_dir = join(os.getcwd(), os.pardir)\n",
    "raw_dir = join(project_dir, 'data', 'raw','chunked')\n",
    "interim_dir = join(project_dir, 'data', 'interim')\n",
    "nltk.download('vader_lexicon')\n",
    "\n",
    "%config InlineBackend.figure_format = 'svg'"
   ]
  },
  {
   "cell_type": "code",
   "execution_count": 13,
   "metadata": {},
   "outputs": [
    {
     "name": "stdout",
     "output_type": "stream",
     "text": [
      "/home/jaredross/personal/solve-iwmi/notebooks/../data/raw/chunked/chunk_an.json\n"
     ]
    },
    {
     "name": "stderr",
     "output_type": "stream",
     "text": [
      "2020-08-07 12:04:39,166 - elasticsearch - INFO - POST http://localhost:9200/twitter/_bulk [status:200 request:0.134s]\n",
      "2020-08-07 12:04:39,457 - elasticsearch - INFO - POST http://localhost:9200/twitter/_bulk [status:200 request:0.166s]\n",
      "2020-08-07 12:04:39,707 - elasticsearch - INFO - POST http://localhost:9200/twitter/_bulk [status:200 request:0.136s]\n",
      "2020-08-07 12:04:39,933 - elasticsearch - INFO - POST http://localhost:9200/twitter/_bulk [status:200 request:0.119s]\n",
      "2020-08-07 12:04:40,165 - elasticsearch - INFO - POST http://localhost:9200/twitter/_bulk [status:200 request:0.126s]\n",
      "2020-08-07 12:04:40,381 - elasticsearch - INFO - POST http://localhost:9200/twitter/_bulk [status:200 request:0.114s]\n",
      "2020-08-07 12:04:40,601 - elasticsearch - INFO - POST http://localhost:9200/twitter/_bulk [status:200 request:0.116s]\n",
      "2020-08-07 12:04:40,817 - elasticsearch - INFO - POST http://localhost:9200/twitter/_bulk [status:200 request:0.113s]\n",
      "2020-08-07 12:04:41,034 - elasticsearch - INFO - POST http://localhost:9200/twitter/_bulk [status:200 request:0.118s]\n",
      "2020-08-07 12:04:41,244 - elasticsearch - INFO - POST http://localhost:9200/twitter/_bulk [status:200 request:0.113s]\n",
      "2020-08-07 12:04:41,475 - elasticsearch - INFO - POST http://localhost:9200/twitter/_bulk [status:200 request:0.129s]\n",
      "2020-08-07 12:04:41,716 - elasticsearch - INFO - POST http://localhost:9200/twitter/_bulk [status:200 request:0.137s]\n",
      "2020-08-07 12:04:41,940 - elasticsearch - INFO - POST http://localhost:9200/twitter/_bulk [status:200 request:0.121s]\n",
      "2020-08-07 12:04:42,160 - elasticsearch - INFO - POST http://localhost:9200/twitter/_bulk [status:200 request:0.120s]\n",
      "2020-08-07 12:04:42,388 - elasticsearch - INFO - POST http://localhost:9200/twitter/_bulk [status:200 request:0.120s]\n",
      "2020-08-07 12:04:42,609 - elasticsearch - INFO - POST http://localhost:9200/twitter/_bulk [status:200 request:0.121s]\n",
      "2020-08-07 12:04:42,820 - elasticsearch - INFO - POST http://localhost:9200/twitter/_bulk [status:200 request:0.113s]\n",
      "2020-08-07 12:04:43,060 - elasticsearch - INFO - POST http://localhost:9200/twitter/_bulk [status:200 request:0.125s]\n",
      "2020-08-07 12:04:43,277 - elasticsearch - INFO - POST http://localhost:9200/twitter/_bulk [status:200 request:0.115s]\n",
      "2020-08-07 12:04:43,500 - elasticsearch - INFO - POST http://localhost:9200/twitter/_bulk [status:200 request:0.120s]\n"
     ]
    },
    {
     "name": "stdout",
     "output_type": "stream",
     "text": [
      "/home/jaredross/personal/solve-iwmi/notebooks/../data/raw/chunked/chunk_bp.json\n"
     ]
    },
    {
     "name": "stderr",
     "output_type": "stream",
     "text": [
      "2020-08-07 12:21:40,249 - elasticsearch - INFO - POST http://localhost:9200/twitter/_bulk [status:200 request:0.128s]\n",
      "2020-08-07 12:21:40,487 - elasticsearch - INFO - POST http://localhost:9200/twitter/_bulk [status:200 request:0.128s]\n",
      "2020-08-07 12:21:40,717 - elasticsearch - INFO - POST http://localhost:9200/twitter/_bulk [status:200 request:0.125s]\n",
      "2020-08-07 12:21:40,964 - elasticsearch - INFO - POST http://localhost:9200/twitter/_bulk [status:200 request:0.126s]\n",
      "2020-08-07 12:21:41,180 - elasticsearch - INFO - POST http://localhost:9200/twitter/_bulk [status:200 request:0.113s]\n",
      "2020-08-07 12:21:41,420 - elasticsearch - INFO - POST http://localhost:9200/twitter/_bulk [status:200 request:0.130s]\n",
      "2020-08-07 12:21:41,659 - elasticsearch - INFO - POST http://localhost:9200/twitter/_bulk [status:200 request:0.132s]\n",
      "2020-08-07 12:21:41,963 - elasticsearch - INFO - POST http://localhost:9200/twitter/_bulk [status:200 request:0.185s]\n",
      "2020-08-07 12:21:42,208 - elasticsearch - INFO - POST http://localhost:9200/twitter/_bulk [status:200 request:0.133s]\n",
      "2020-08-07 12:21:42,441 - elasticsearch - INFO - POST http://localhost:9200/twitter/_bulk [status:200 request:0.120s]\n",
      "2020-08-07 12:21:42,709 - elasticsearch - INFO - POST http://localhost:9200/twitter/_bulk [status:200 request:0.157s]\n",
      "2020-08-07 12:21:42,953 - elasticsearch - INFO - POST http://localhost:9200/twitter/_bulk [status:200 request:0.135s]\n",
      "2020-08-07 12:21:43,208 - elasticsearch - INFO - POST http://localhost:9200/twitter/_bulk [status:200 request:0.135s]\n",
      "2020-08-07 12:21:43,533 - elasticsearch - INFO - POST http://localhost:9200/twitter/_bulk [status:200 request:0.216s]\n",
      "2020-08-07 12:21:43,767 - elasticsearch - INFO - POST http://localhost:9200/twitter/_bulk [status:200 request:0.117s]\n",
      "2020-08-07 12:21:44,020 - elasticsearch - INFO - POST http://localhost:9200/twitter/_bulk [status:200 request:0.127s]\n",
      "2020-08-07 12:21:44,233 - elasticsearch - INFO - POST http://localhost:9200/twitter/_bulk [status:200 request:0.110s]\n",
      "2020-08-07 12:21:44,440 - elasticsearch - INFO - POST http://localhost:9200/twitter/_bulk [status:200 request:0.105s]\n",
      "2020-08-07 12:21:44,653 - elasticsearch - INFO - POST http://localhost:9200/twitter/_bulk [status:200 request:0.114s]\n",
      "2020-08-07 12:21:44,995 - elasticsearch - INFO - POST http://localhost:9200/twitter/_bulk [status:200 request:0.186s]\n"
     ]
    },
    {
     "name": "stdout",
     "output_type": "stream",
     "text": [
      "/home/jaredross/personal/solve-iwmi/notebooks/../data/raw/chunked/chunk_aw.json\n"
     ]
    },
    {
     "name": "stderr",
     "output_type": "stream",
     "text": [
      "2020-08-07 12:32:47,993 - elasticsearch - INFO - POST http://localhost:9200/twitter/_bulk [status:200 request:0.094s]\n",
      "2020-08-07 12:32:48,181 - elasticsearch - INFO - POST http://localhost:9200/twitter/_bulk [status:200 request:0.095s]\n",
      "2020-08-07 12:32:48,380 - elasticsearch - INFO - POST http://localhost:9200/twitter/_bulk [status:200 request:0.100s]\n",
      "2020-08-07 12:32:48,593 - elasticsearch - INFO - POST http://localhost:9200/twitter/_bulk [status:200 request:0.111s]\n",
      "2020-08-07 12:32:48,848 - elasticsearch - INFO - POST http://localhost:9200/twitter/_bulk [status:200 request:0.140s]\n",
      "2020-08-07 12:32:49,049 - elasticsearch - INFO - POST http://localhost:9200/twitter/_bulk [status:200 request:0.105s]\n",
      "2020-08-07 12:32:49,259 - elasticsearch - INFO - POST http://localhost:9200/twitter/_bulk [status:200 request:0.110s]\n",
      "2020-08-07 12:32:49,485 - elasticsearch - INFO - POST http://localhost:9200/twitter/_bulk [status:200 request:0.112s]\n",
      "2020-08-07 12:32:49,784 - elasticsearch - INFO - POST http://localhost:9200/twitter/_bulk [status:200 request:0.201s]\n",
      "2020-08-07 12:32:50,038 - elasticsearch - INFO - POST http://localhost:9200/twitter/_bulk [status:200 request:0.109s]\n",
      "2020-08-07 12:32:50,234 - elasticsearch - INFO - POST http://localhost:9200/twitter/_bulk [status:200 request:0.101s]\n",
      "2020-08-07 12:32:50,434 - elasticsearch - INFO - POST http://localhost:9200/twitter/_bulk [status:200 request:0.103s]\n",
      "2020-08-07 12:32:50,634 - elasticsearch - INFO - POST http://localhost:9200/twitter/_bulk [status:200 request:0.103s]\n",
      "2020-08-07 12:32:50,839 - elasticsearch - INFO - POST http://localhost:9200/twitter/_bulk [status:200 request:0.103s]\n",
      "2020-08-07 12:32:51,050 - elasticsearch - INFO - POST http://localhost:9200/twitter/_bulk [status:200 request:0.113s]\n",
      "2020-08-07 12:32:51,254 - elasticsearch - INFO - POST http://localhost:9200/twitter/_bulk [status:200 request:0.104s]\n",
      "2020-08-07 12:32:51,443 - elasticsearch - INFO - POST http://localhost:9200/twitter/_bulk [status:200 request:0.093s]\n",
      "2020-08-07 12:32:51,636 - elasticsearch - INFO - POST http://localhost:9200/twitter/_bulk [status:200 request:0.098s]\n",
      "2020-08-07 12:32:51,835 - elasticsearch - INFO - POST http://localhost:9200/twitter/_bulk [status:200 request:0.099s]\n",
      "2020-08-07 12:32:52,044 - elasticsearch - INFO - POST http://localhost:9200/twitter/_bulk [status:200 request:0.105s]\n"
     ]
    },
    {
     "name": "stdout",
     "output_type": "stream",
     "text": [
      "/home/jaredross/personal/solve-iwmi/notebooks/../data/raw/chunked/chunk_ap.json\n"
     ]
    },
    {
     "name": "stderr",
     "output_type": "stream",
     "text": [
      "2020-08-07 12:45:52,423 - elasticsearch - INFO - POST http://localhost:9200/twitter/_bulk [status:200 request:0.100s]\n",
      "2020-08-07 12:45:52,618 - elasticsearch - INFO - POST http://localhost:9200/twitter/_bulk [status:200 request:0.099s]\n",
      "2020-08-07 12:45:52,830 - elasticsearch - INFO - POST http://localhost:9200/twitter/_bulk [status:200 request:0.114s]\n",
      "2020-08-07 12:45:53,034 - elasticsearch - INFO - POST http://localhost:9200/twitter/_bulk [status:200 request:0.104s]\n",
      "2020-08-07 12:45:53,232 - elasticsearch - INFO - POST http://localhost:9200/twitter/_bulk [status:200 request:0.101s]\n",
      "2020-08-07 12:45:53,433 - elasticsearch - INFO - POST http://localhost:9200/twitter/_bulk [status:200 request:0.103s]\n",
      "2020-08-07 12:45:53,629 - elasticsearch - INFO - POST http://localhost:9200/twitter/_bulk [status:200 request:0.103s]\n",
      "2020-08-07 12:45:53,834 - elasticsearch - INFO - POST http://localhost:9200/twitter/_bulk [status:200 request:0.108s]\n",
      "2020-08-07 12:45:54,038 - elasticsearch - INFO - POST http://localhost:9200/twitter/_bulk [status:200 request:0.101s]\n",
      "2020-08-07 12:45:54,242 - elasticsearch - INFO - POST http://localhost:9200/twitter/_bulk [status:200 request:0.107s]\n",
      "2020-08-07 12:45:54,439 - elasticsearch - INFO - POST http://localhost:9200/twitter/_bulk [status:200 request:0.101s]\n",
      "2020-08-07 12:45:54,635 - elasticsearch - INFO - POST http://localhost:9200/twitter/_bulk [status:200 request:0.100s]\n",
      "2020-08-07 12:45:54,839 - elasticsearch - INFO - POST http://localhost:9200/twitter/_bulk [status:200 request:0.108s]\n",
      "2020-08-07 12:45:55,041 - elasticsearch - INFO - POST http://localhost:9200/twitter/_bulk [status:200 request:0.103s]\n",
      "2020-08-07 12:45:55,244 - elasticsearch - INFO - POST http://localhost:9200/twitter/_bulk [status:200 request:0.105s]\n",
      "2020-08-07 12:45:55,442 - elasticsearch - INFO - POST http://localhost:9200/twitter/_bulk [status:200 request:0.104s]\n",
      "2020-08-07 12:45:55,649 - elasticsearch - INFO - POST http://localhost:9200/twitter/_bulk [status:200 request:0.112s]\n",
      "2020-08-07 12:45:55,852 - elasticsearch - INFO - POST http://localhost:9200/twitter/_bulk [status:200 request:0.105s]\n",
      "2020-08-07 12:45:56,047 - elasticsearch - INFO - POST http://localhost:9200/twitter/_bulk [status:200 request:0.100s]\n",
      "2020-08-07 12:45:56,239 - elasticsearch - INFO - POST http://localhost:9200/twitter/_bulk [status:200 request:0.095s]\n"
     ]
    },
    {
     "name": "stdout",
     "output_type": "stream",
     "text": [
      "/home/jaredross/personal/solve-iwmi/notebooks/../data/raw/chunked/chunk_ai.json\n"
     ]
    },
    {
     "name": "stderr",
     "output_type": "stream",
     "text": [
      "2020-08-07 12:53:56,934 - elasticsearch - INFO - POST http://localhost:9200/twitter/_bulk [status:200 request:0.131s]\n",
      "2020-08-07 12:53:57,139 - elasticsearch - INFO - POST http://localhost:9200/twitter/_bulk [status:200 request:0.098s]\n",
      "2020-08-07 12:53:57,361 - elasticsearch - INFO - POST http://localhost:9200/twitter/_bulk [status:200 request:0.114s]\n",
      "2020-08-07 12:53:57,566 - elasticsearch - INFO - POST http://localhost:9200/twitter/_bulk [status:200 request:0.100s]\n",
      "2020-08-07 12:53:57,768 - elasticsearch - INFO - POST http://localhost:9200/twitter/_bulk [status:200 request:0.103s]\n",
      "2020-08-07 12:53:57,966 - elasticsearch - INFO - POST http://localhost:9200/twitter/_bulk [status:200 request:0.101s]\n",
      "2020-08-07 12:53:58,165 - elasticsearch - INFO - POST http://localhost:9200/twitter/_bulk [status:200 request:0.100s]\n",
      "2020-08-07 12:53:58,387 - elasticsearch - INFO - POST http://localhost:9200/twitter/_bulk [status:200 request:0.109s]\n",
      "2020-08-07 12:53:58,595 - elasticsearch - INFO - POST http://localhost:9200/twitter/_bulk [status:200 request:0.104s]\n",
      "2020-08-07 12:53:58,798 - elasticsearch - INFO - POST http://localhost:9200/twitter/_bulk [status:200 request:0.102s]\n",
      "2020-08-07 12:53:59,001 - elasticsearch - INFO - POST http://localhost:9200/twitter/_bulk [status:200 request:0.103s]\n",
      "2020-08-07 12:53:59,197 - elasticsearch - INFO - POST http://localhost:9200/twitter/_bulk [status:200 request:0.099s]\n",
      "2020-08-07 12:53:59,430 - elasticsearch - INFO - POST http://localhost:9200/twitter/_bulk [status:200 request:0.101s]\n",
      "2020-08-07 12:53:59,636 - elasticsearch - INFO - POST http://localhost:9200/twitter/_bulk [status:200 request:0.108s]\n",
      "2020-08-07 12:53:59,836 - elasticsearch - INFO - POST http://localhost:9200/twitter/_bulk [status:200 request:0.102s]\n",
      "2020-08-07 12:54:00,062 - elasticsearch - INFO - POST http://localhost:9200/twitter/_bulk [status:200 request:0.103s]\n",
      "2020-08-07 12:54:00,284 - elasticsearch - INFO - POST http://localhost:9200/twitter/_bulk [status:200 request:0.106s]\n",
      "2020-08-07 12:54:00,488 - elasticsearch - INFO - POST http://localhost:9200/twitter/_bulk [status:200 request:0.100s]\n",
      "2020-08-07 12:54:00,682 - elasticsearch - INFO - POST http://localhost:9200/twitter/_bulk [status:200 request:0.101s]\n",
      "2020-08-07 12:54:00,913 - elasticsearch - INFO - POST http://localhost:9200/twitter/_bulk [status:200 request:0.117s]\n"
     ]
    },
    {
     "name": "stdout",
     "output_type": "stream",
     "text": [
      "/home/jaredross/personal/solve-iwmi/notebooks/../data/raw/chunked/chunk_al.json\n"
     ]
    },
    {
     "name": "stderr",
     "output_type": "stream",
     "text": [
      "2020-08-07 13:00:47,817 - elasticsearch - INFO - POST http://localhost:9200/twitter/_bulk [status:200 request:0.092s]\n",
      "2020-08-07 13:00:48,005 - elasticsearch - INFO - POST http://localhost:9200/twitter/_bulk [status:200 request:0.090s]\n",
      "2020-08-07 13:00:48,195 - elasticsearch - INFO - POST http://localhost:9200/twitter/_bulk [status:200 request:0.091s]\n",
      "2020-08-07 13:00:48,383 - elasticsearch - INFO - POST http://localhost:9200/twitter/_bulk [status:200 request:0.091s]\n",
      "2020-08-07 13:00:48,581 - elasticsearch - INFO - POST http://localhost:9200/twitter/_bulk [status:200 request:0.087s]\n",
      "2020-08-07 13:00:48,762 - elasticsearch - INFO - POST http://localhost:9200/twitter/_bulk [status:200 request:0.085s]\n",
      "2020-08-07 13:00:48,955 - elasticsearch - INFO - POST http://localhost:9200/twitter/_bulk [status:200 request:0.093s]\n",
      "2020-08-07 13:00:49,152 - elasticsearch - INFO - POST http://localhost:9200/twitter/_bulk [status:200 request:0.100s]\n",
      "2020-08-07 13:00:49,337 - elasticsearch - INFO - POST http://localhost:9200/twitter/_bulk [status:200 request:0.090s]\n",
      "2020-08-07 13:00:49,522 - elasticsearch - INFO - POST http://localhost:9200/twitter/_bulk [status:200 request:0.092s]\n",
      "2020-08-07 13:00:49,704 - elasticsearch - INFO - POST http://localhost:9200/twitter/_bulk [status:200 request:0.088s]\n",
      "2020-08-07 13:00:49,894 - elasticsearch - INFO - POST http://localhost:9200/twitter/_bulk [status:200 request:0.093s]\n",
      "2020-08-07 13:00:50,089 - elasticsearch - INFO - POST http://localhost:9200/twitter/_bulk [status:200 request:0.097s]\n",
      "2020-08-07 13:00:50,282 - elasticsearch - INFO - POST http://localhost:9200/twitter/_bulk [status:200 request:0.099s]\n",
      "2020-08-07 13:00:50,481 - elasticsearch - INFO - POST http://localhost:9200/twitter/_bulk [status:200 request:0.104s]\n",
      "2020-08-07 13:00:50,676 - elasticsearch - INFO - POST http://localhost:9200/twitter/_bulk [status:200 request:0.097s]\n",
      "2020-08-07 13:00:50,870 - elasticsearch - INFO - POST http://localhost:9200/twitter/_bulk [status:200 request:0.100s]\n",
      "2020-08-07 13:00:51,058 - elasticsearch - INFO - POST http://localhost:9200/twitter/_bulk [status:200 request:0.095s]\n",
      "2020-08-07 13:00:51,257 - elasticsearch - INFO - POST http://localhost:9200/twitter/_bulk [status:200 request:0.102s]\n",
      "2020-08-07 13:00:51,455 - elasticsearch - INFO - POST http://localhost:9200/twitter/_bulk [status:200 request:0.098s]\n"
     ]
    },
    {
     "name": "stdout",
     "output_type": "stream",
     "text": [
      "/home/jaredross/personal/solve-iwmi/notebooks/../data/raw/chunked/chunk_bg.json\n"
     ]
    },
    {
     "name": "stderr",
     "output_type": "stream",
     "text": [
      "2020-08-07 13:09:40,534 - elasticsearch - INFO - POST http://localhost:9200/twitter/_bulk [status:200 request:0.098s]\n",
      "2020-08-07 13:09:40,722 - elasticsearch - INFO - POST http://localhost:9200/twitter/_bulk [status:200 request:0.091s]\n",
      "2020-08-07 13:09:40,909 - elasticsearch - INFO - POST http://localhost:9200/twitter/_bulk [status:200 request:0.089s]\n",
      "2020-08-07 13:09:41,122 - elasticsearch - INFO - POST http://localhost:9200/twitter/_bulk [status:200 request:0.097s]\n",
      "2020-08-07 13:09:41,324 - elasticsearch - INFO - POST http://localhost:9200/twitter/_bulk [status:200 request:0.100s]\n",
      "2020-08-07 13:09:41,510 - elasticsearch - INFO - POST http://localhost:9200/twitter/_bulk [status:200 request:0.092s]\n",
      "2020-08-07 13:09:41,703 - elasticsearch - INFO - POST http://localhost:9200/twitter/_bulk [status:200 request:0.096s]\n",
      "2020-08-07 13:09:41,895 - elasticsearch - INFO - POST http://localhost:9200/twitter/_bulk [status:200 request:0.096s]\n",
      "2020-08-07 13:09:42,099 - elasticsearch - INFO - POST http://localhost:9200/twitter/_bulk [status:200 request:0.109s]\n",
      "2020-08-07 13:09:42,288 - elasticsearch - INFO - POST http://localhost:9200/twitter/_bulk [status:200 request:0.094s]\n",
      "2020-08-07 13:09:42,477 - elasticsearch - INFO - POST http://localhost:9200/twitter/_bulk [status:200 request:0.091s]\n",
      "2020-08-07 13:09:42,666 - elasticsearch - INFO - POST http://localhost:9200/twitter/_bulk [status:200 request:0.091s]\n",
      "2020-08-07 13:09:42,854 - elasticsearch - INFO - POST http://localhost:9200/twitter/_bulk [status:200 request:0.092s]\n",
      "2020-08-07 13:09:43,043 - elasticsearch - INFO - POST http://localhost:9200/twitter/_bulk [status:200 request:0.095s]\n",
      "2020-08-07 13:09:43,255 - elasticsearch - INFO - POST http://localhost:9200/twitter/_bulk [status:200 request:0.114s]\n",
      "2020-08-07 13:09:43,457 - elasticsearch - INFO - POST http://localhost:9200/twitter/_bulk [status:200 request:0.104s]\n",
      "2020-08-07 13:09:43,657 - elasticsearch - INFO - POST http://localhost:9200/twitter/_bulk [status:200 request:0.102s]\n",
      "2020-08-07 13:09:43,861 - elasticsearch - INFO - POST http://localhost:9200/twitter/_bulk [status:200 request:0.108s]\n",
      "2020-08-07 13:09:44,061 - elasticsearch - INFO - POST http://localhost:9200/twitter/_bulk [status:200 request:0.104s]\n",
      "2020-08-07 13:09:44,269 - elasticsearch - INFO - POST http://localhost:9200/twitter/_bulk [status:200 request:0.107s]\n"
     ]
    },
    {
     "name": "stdout",
     "output_type": "stream",
     "text": [
      "/home/jaredross/personal/solve-iwmi/notebooks/../data/raw/chunked/chunk_ao.json\n"
     ]
    },
    {
     "name": "stderr",
     "output_type": "stream",
     "text": [
      "2020-08-07 13:21:40,751 - elasticsearch - INFO - POST http://localhost:9200/twitter/_bulk [status:200 request:0.110s]\n",
      "2020-08-07 13:21:40,969 - elasticsearch - INFO - POST http://localhost:9200/twitter/_bulk [status:200 request:0.115s]\n",
      "2020-08-07 13:21:41,191 - elasticsearch - INFO - POST http://localhost:9200/twitter/_bulk [status:200 request:0.122s]\n",
      "2020-08-07 13:21:41,418 - elasticsearch - INFO - POST http://localhost:9200/twitter/_bulk [status:200 request:0.123s]\n",
      "2020-08-07 13:21:41,639 - elasticsearch - INFO - POST http://localhost:9200/twitter/_bulk [status:200 request:0.111s]\n",
      "2020-08-07 13:21:41,861 - elasticsearch - INFO - POST http://localhost:9200/twitter/_bulk [status:200 request:0.119s]\n",
      "2020-08-07 13:21:42,076 - elasticsearch - INFO - POST http://localhost:9200/twitter/_bulk [status:200 request:0.118s]\n",
      "2020-08-07 13:21:42,291 - elasticsearch - INFO - POST http://localhost:9200/twitter/_bulk [status:200 request:0.115s]\n",
      "2020-08-07 13:21:42,520 - elasticsearch - INFO - POST http://localhost:9200/twitter/_bulk [status:200 request:0.129s]\n",
      "2020-08-07 13:21:42,735 - elasticsearch - INFO - POST http://localhost:9200/twitter/_bulk [status:200 request:0.112s]\n",
      "2020-08-07 13:21:42,954 - elasticsearch - INFO - POST http://localhost:9200/twitter/_bulk [status:200 request:0.111s]\n",
      "2020-08-07 13:21:43,165 - elasticsearch - INFO - POST http://localhost:9200/twitter/_bulk [status:200 request:0.109s]\n",
      "2020-08-07 13:21:43,389 - elasticsearch - INFO - POST http://localhost:9200/twitter/_bulk [status:200 request:0.110s]\n",
      "2020-08-07 13:21:43,600 - elasticsearch - INFO - POST http://localhost:9200/twitter/_bulk [status:200 request:0.108s]\n",
      "2020-08-07 13:21:43,810 - elasticsearch - INFO - POST http://localhost:9200/twitter/_bulk [status:200 request:0.112s]\n",
      "2020-08-07 13:21:44,011 - elasticsearch - INFO - POST http://localhost:9200/twitter/_bulk [status:200 request:0.103s]\n",
      "2020-08-07 13:21:44,204 - elasticsearch - INFO - POST http://localhost:9200/twitter/_bulk [status:200 request:0.098s]\n",
      "2020-08-07 13:21:44,397 - elasticsearch - INFO - POST http://localhost:9200/twitter/_bulk [status:200 request:0.099s]\n",
      "2020-08-07 13:21:44,593 - elasticsearch - INFO - POST http://localhost:9200/twitter/_bulk [status:200 request:0.099s]\n",
      "2020-08-07 13:21:44,778 - elasticsearch - INFO - POST http://localhost:9200/twitter/_bulk [status:200 request:0.089s]\n"
     ]
    },
    {
     "name": "stdout",
     "output_type": "stream",
     "text": [
      "/home/jaredross/personal/solve-iwmi/notebooks/../data/raw/chunked/chunk_ba.json\n"
     ]
    },
    {
     "name": "stderr",
     "output_type": "stream",
     "text": [
      "2020-08-07 13:30:55,487 - elasticsearch - INFO - POST http://localhost:9200/twitter/_bulk [status:200 request:0.149s]\n",
      "2020-08-07 13:30:55,751 - elasticsearch - INFO - POST http://localhost:9200/twitter/_bulk [status:200 request:0.148s]\n",
      "2020-08-07 13:30:56,014 - elasticsearch - INFO - POST http://localhost:9200/twitter/_bulk [status:200 request:0.136s]\n",
      "2020-08-07 13:30:56,272 - elasticsearch - INFO - POST http://localhost:9200/twitter/_bulk [status:200 request:0.140s]\n",
      "2020-08-07 13:30:56,524 - elasticsearch - INFO - POST http://localhost:9200/twitter/_bulk [status:200 request:0.123s]\n",
      "2020-08-07 13:30:56,779 - elasticsearch - INFO - POST http://localhost:9200/twitter/_bulk [status:200 request:0.137s]\n",
      "2020-08-07 13:30:57,050 - elasticsearch - INFO - POST http://localhost:9200/twitter/_bulk [status:200 request:0.139s]\n",
      "2020-08-07 13:30:57,294 - elasticsearch - INFO - POST http://localhost:9200/twitter/_bulk [status:200 request:0.137s]\n",
      "2020-08-07 13:30:57,529 - elasticsearch - INFO - POST http://localhost:9200/twitter/_bulk [status:200 request:0.123s]\n",
      "2020-08-07 13:30:57,797 - elasticsearch - INFO - POST http://localhost:9200/twitter/_bulk [status:200 request:0.140s]\n",
      "2020-08-07 13:30:58,051 - elasticsearch - INFO - POST http://localhost:9200/twitter/_bulk [status:200 request:0.136s]\n",
      "2020-08-07 13:30:58,306 - elasticsearch - INFO - POST http://localhost:9200/twitter/_bulk [status:200 request:0.142s]\n",
      "2020-08-07 13:30:58,536 - elasticsearch - INFO - POST http://localhost:9200/twitter/_bulk [status:200 request:0.122s]\n",
      "2020-08-07 13:30:58,790 - elasticsearch - INFO - POST http://localhost:9200/twitter/_bulk [status:200 request:0.140s]\n",
      "2020-08-07 13:30:59,058 - elasticsearch - INFO - POST http://localhost:9200/twitter/_bulk [status:200 request:0.142s]\n",
      "2020-08-07 13:30:59,307 - elasticsearch - INFO - POST http://localhost:9200/twitter/_bulk [status:200 request:0.136s]\n",
      "2020-08-07 13:30:59,552 - elasticsearch - INFO - POST http://localhost:9200/twitter/_bulk [status:200 request:0.127s]\n",
      "2020-08-07 13:30:59,828 - elasticsearch - INFO - POST http://localhost:9200/twitter/_bulk [status:200 request:0.150s]\n",
      "2020-08-07 13:31:00,053 - elasticsearch - INFO - POST http://localhost:9200/twitter/_bulk [status:200 request:0.118s]\n",
      "2020-08-07 13:31:00,320 - elasticsearch - INFO - POST http://localhost:9200/twitter/_bulk [status:200 request:0.136s]\n"
     ]
    },
    {
     "name": "stdout",
     "output_type": "stream",
     "text": [
      "/home/jaredross/personal/solve-iwmi/notebooks/../data/raw/chunked/chunk_am.json\n"
     ]
    },
    {
     "name": "stderr",
     "output_type": "stream",
     "text": [
      "2020-08-07 13:40:14,603 - elasticsearch - INFO - POST http://localhost:9200/twitter/_bulk [status:200 request:0.114s]\n",
      "2020-08-07 13:40:14,838 - elasticsearch - INFO - POST http://localhost:9200/twitter/_bulk [status:200 request:0.125s]\n",
      "2020-08-07 13:40:15,063 - elasticsearch - INFO - POST http://localhost:9200/twitter/_bulk [status:200 request:0.112s]\n",
      "2020-08-07 13:40:15,311 - elasticsearch - INFO - POST http://localhost:9200/twitter/_bulk [status:200 request:0.132s]\n",
      "2020-08-07 13:40:15,544 - elasticsearch - INFO - POST http://localhost:9200/twitter/_bulk [status:200 request:0.121s]\n",
      "2020-08-07 13:40:15,779 - elasticsearch - INFO - POST http://localhost:9200/twitter/_bulk [status:200 request:0.122s]\n",
      "2020-08-07 13:40:16,020 - elasticsearch - INFO - POST http://localhost:9200/twitter/_bulk [status:200 request:0.128s]\n",
      "2020-08-07 13:40:16,260 - elasticsearch - INFO - POST http://localhost:9200/twitter/_bulk [status:200 request:0.134s]\n",
      "2020-08-07 13:40:16,481 - elasticsearch - INFO - POST http://localhost:9200/twitter/_bulk [status:200 request:0.110s]\n",
      "2020-08-07 13:40:16,726 - elasticsearch - INFO - POST http://localhost:9200/twitter/_bulk [status:200 request:0.137s]\n",
      "2020-08-07 13:40:17,007 - elasticsearch - INFO - POST http://localhost:9200/twitter/_bulk [status:200 request:0.166s]\n",
      "2020-08-07 13:40:17,249 - elasticsearch - INFO - POST http://localhost:9200/twitter/_bulk [status:200 request:0.132s]\n",
      "2020-08-07 13:40:17,491 - elasticsearch - INFO - POST http://localhost:9200/twitter/_bulk [status:200 request:0.127s]\n",
      "2020-08-07 13:40:17,732 - elasticsearch - INFO - POST http://localhost:9200/twitter/_bulk [status:200 request:0.133s]\n",
      "2020-08-07 13:40:18,084 - elasticsearch - INFO - POST http://localhost:9200/twitter/_bulk [status:200 request:0.230s]\n",
      "2020-08-07 13:40:18,356 - elasticsearch - INFO - POST http://localhost:9200/twitter/_bulk [status:200 request:0.142s]\n",
      "2020-08-07 13:40:18,598 - elasticsearch - INFO - POST http://localhost:9200/twitter/_bulk [status:200 request:0.125s]\n",
      "2020-08-07 13:40:18,839 - elasticsearch - INFO - POST http://localhost:9200/twitter/_bulk [status:200 request:0.129s]\n",
      "2020-08-07 13:40:19,091 - elasticsearch - INFO - POST http://localhost:9200/twitter/_bulk [status:200 request:0.138s]\n",
      "2020-08-07 13:40:19,354 - elasticsearch - INFO - POST http://localhost:9200/twitter/_bulk [status:200 request:0.142s]\n"
     ]
    },
    {
     "name": "stdout",
     "output_type": "stream",
     "text": [
      "/home/jaredross/personal/solve-iwmi/notebooks/../data/raw/chunked/chunk_au.json\n"
     ]
    },
    {
     "name": "stderr",
     "output_type": "stream",
     "text": [
      "2020-08-07 13:54:13,157 - elasticsearch - INFO - POST http://localhost:9200/twitter/_bulk [status:200 request:0.146s]\n",
      "2020-08-07 13:54:13,473 - elasticsearch - INFO - POST http://localhost:9200/twitter/_bulk [status:200 request:0.178s]\n",
      "2020-08-07 13:54:13,830 - elasticsearch - INFO - POST http://localhost:9200/twitter/_bulk [status:200 request:0.196s]\n",
      "2020-08-07 13:54:14,126 - elasticsearch - INFO - POST http://localhost:9200/twitter/_bulk [status:200 request:0.142s]\n",
      "2020-08-07 13:54:14,378 - elasticsearch - INFO - POST http://localhost:9200/twitter/_bulk [status:200 request:0.138s]\n",
      "2020-08-07 13:54:14,627 - elasticsearch - INFO - POST http://localhost:9200/twitter/_bulk [status:200 request:0.146s]\n",
      "2020-08-07 13:54:14,877 - elasticsearch - INFO - POST http://localhost:9200/twitter/_bulk [status:200 request:0.138s]\n",
      "2020-08-07 13:54:15,131 - elasticsearch - INFO - POST http://localhost:9200/twitter/_bulk [status:200 request:0.137s]\n",
      "2020-08-07 13:54:15,366 - elasticsearch - INFO - POST http://localhost:9200/twitter/_bulk [status:200 request:0.134s]\n",
      "2020-08-07 13:54:15,594 - elasticsearch - INFO - POST http://localhost:9200/twitter/_bulk [status:200 request:0.122s]\n",
      "2020-08-07 13:54:15,847 - elasticsearch - INFO - POST http://localhost:9200/twitter/_bulk [status:200 request:0.139s]\n",
      "2020-08-07 13:54:16,079 - elasticsearch - INFO - POST http://localhost:9200/twitter/_bulk [status:200 request:0.122s]\n",
      "2020-08-07 13:54:16,336 - elasticsearch - INFO - POST http://localhost:9200/twitter/_bulk [status:200 request:0.145s]\n",
      "2020-08-07 13:54:16,575 - elasticsearch - INFO - POST http://localhost:9200/twitter/_bulk [status:200 request:0.128s]\n",
      "2020-08-07 13:54:16,796 - elasticsearch - INFO - POST http://localhost:9200/twitter/_bulk [status:200 request:0.113s]\n",
      "2020-08-07 13:54:17,063 - elasticsearch - INFO - POST http://localhost:9200/twitter/_bulk [status:200 request:0.159s]\n",
      "2020-08-07 13:54:17,376 - elasticsearch - INFO - POST http://localhost:9200/twitter/_bulk [status:200 request:0.192s]\n",
      "2020-08-07 13:54:17,601 - elasticsearch - INFO - POST http://localhost:9200/twitter/_bulk [status:200 request:0.117s]\n",
      "2020-08-07 13:54:17,848 - elasticsearch - INFO - POST http://localhost:9200/twitter/_bulk [status:200 request:0.124s]\n",
      "2020-08-07 13:54:18,068 - elasticsearch - INFO - POST http://localhost:9200/twitter/_bulk [status:200 request:0.111s]\n"
     ]
    },
    {
     "name": "stdout",
     "output_type": "stream",
     "text": [
      "/home/jaredross/personal/solve-iwmi/notebooks/../data/raw/chunked/chunk_br.json\n"
     ]
    },
    {
     "name": "stderr",
     "output_type": "stream",
     "text": [
      "2020-08-07 14:13:46,010 - elasticsearch - INFO - POST http://localhost:9200/twitter/_bulk [status:200 request:0.197s]\n",
      "2020-08-07 14:13:46,350 - elasticsearch - INFO - POST http://localhost:9200/twitter/_bulk [status:200 request:0.190s]\n",
      "2020-08-07 14:13:46,772 - elasticsearch - INFO - POST http://localhost:9200/twitter/_bulk [status:200 request:0.256s]\n",
      "2020-08-07 14:13:47,394 - elasticsearch - INFO - POST http://localhost:9200/twitter/_bulk [status:200 request:0.451s]\n",
      "2020-08-07 14:13:47,703 - elasticsearch - INFO - POST http://localhost:9200/twitter/_bulk [status:200 request:0.164s]\n",
      "2020-08-07 14:13:48,066 - elasticsearch - INFO - POST http://localhost:9200/twitter/_bulk [status:200 request:0.194s]\n",
      "2020-08-07 14:13:48,585 - elasticsearch - INFO - POST http://localhost:9200/twitter/_bulk [status:200 request:0.318s]\n",
      "2020-08-07 14:13:49,053 - elasticsearch - INFO - POST http://localhost:9200/twitter/_bulk [status:200 request:0.316s]\n",
      "2020-08-07 14:13:49,868 - elasticsearch - INFO - POST http://localhost:9200/twitter/_bulk [status:200 request:0.382s]\n",
      "2020-08-07 14:13:50,458 - elasticsearch - INFO - POST http://localhost:9200/twitter/_bulk [status:200 request:0.250s]\n",
      "2020-08-07 14:13:51,723 - elasticsearch - INFO - POST http://localhost:9200/twitter/_bulk [status:200 request:1.087s]\n",
      "2020-08-07 14:13:52,154 - elasticsearch - INFO - POST http://localhost:9200/twitter/_bulk [status:200 request:0.211s]\n",
      "2020-08-07 14:13:52,450 - elasticsearch - INFO - POST http://localhost:9200/twitter/_bulk [status:200 request:0.168s]\n",
      "2020-08-07 14:13:52,728 - elasticsearch - INFO - POST http://localhost:9200/twitter/_bulk [status:200 request:0.148s]\n",
      "2020-08-07 14:13:53,075 - elasticsearch - INFO - POST http://localhost:9200/twitter/_bulk [status:200 request:0.205s]\n",
      "2020-08-07 14:13:53,349 - elasticsearch - INFO - POST http://localhost:9200/twitter/_bulk [status:200 request:0.152s]\n",
      "2020-08-07 14:13:53,665 - elasticsearch - INFO - POST http://localhost:9200/twitter/_bulk [status:200 request:0.193s]\n",
      "2020-08-07 14:13:53,993 - elasticsearch - INFO - POST http://localhost:9200/twitter/_bulk [status:200 request:0.195s]\n",
      "2020-08-07 14:13:54,258 - elasticsearch - INFO - POST http://localhost:9200/twitter/_bulk [status:200 request:0.139s]\n",
      "2020-08-07 14:13:54,553 - elasticsearch - INFO - POST http://localhost:9200/twitter/_bulk [status:200 request:0.130s]\n"
     ]
    },
    {
     "name": "stdout",
     "output_type": "stream",
     "text": [
      "CPU times: user 12min 42s, sys: 29.4 s, total: 13min 12s\n",
      "Wall time: 2h 21min 24s\n"
     ]
    }
   ],
   "source": [
    "%%time\n",
    "\n",
    "for raw_fname in ['chunk_an.json','chunk_bp.json','chunk_aw.json','chunk_ap.json','chunk_ai.json','chunk_al.json','chunk_bg.json','chunk_ao.json','chunk_ba.json','chunk_am.json','chunk_au.json','chunk_br.json']:\n",
    "    print(join(raw_dir, raw_fname))\n",
    "    df = transform(join(raw_dir, raw_fname))\n",
    "    df = preprocessDataFrame(df)\n",
    "    load_es(df)"
   ]
  },
  {
   "cell_type": "code",
   "execution_count": 12,
   "metadata": {},
   "outputs": [
    {
     "data": {
      "text/plain": [
       "['chunk_bk.json',\n",
       " 'chunk_at.json',\n",
       " 'chunk_aq.json',\n",
       " 'chunk_ab.json',\n",
       " 'chunk_bf.json',\n",
       " 'chunk_bo.json',\n",
       " 'chunk_ay.json',\n",
       " 'chunk_bj.json',\n",
       " 'chunk_bm.json',\n",
       " 'chunk_av.json',\n",
       " 'chunk_ac.json',\n",
       " 'chunk_ax.json',\n",
       " 'chunk_as.json',\n",
       " 'chunk_ak.json',\n",
       " 'chunk_bn.json',\n",
       " 'chunk_bl.json',\n",
       " 'chunk_bq.json',\n",
       " 'chunk_be.json',\n",
       " 'chunk_ae.json',\n",
       " 'chunk_bi.json',\n",
       " 'chunk_az.json',\n",
       " 'chunk_ah.json',\n",
       " 'chunk_ad.json',\n",
       " 'chunk_af.json',\n",
       " 'chunk_ag.json',\n",
       " 'chunk_bb.json',\n",
       " 'chunk_bd.json',\n",
       " 'chunk_bs.json',\n",
       " 'chunk_aa.json',\n",
       " 'chunk_bh.json',\n",
       " 'chunk_aj.json',\n",
       " 'chunk_ar.json',\n",
       " 'chunk_bc.json',\n",
       " 'chunk_an.json',\n",
       " 'chunk_bp.json',\n",
       " 'chunk_aw.json',\n",
       " 'chunk_ap.json',\n",
       " 'chunk_ai.json',\n",
       " 'chunk_al.json',\n",
       " 'chunk_bg.json',\n",
       " 'chunk_ao.json',\n",
       " 'chunk_ba.json',\n",
       " 'chunk_am.json',\n",
       " 'chunk_au.json',\n",
       " 'chunk_br.json']"
      ]
     },
     "execution_count": 12,
     "metadata": {},
     "output_type": "execute_result"
    }
   ],
   "source": [
    "os.listdir(raw_dir)"
   ]
  },
  {
   "cell_type": "code",
   "execution_count": 24,
   "metadata": {},
   "outputs": [],
   "source": [
    "from elasticsearch import Elasticsearch, helpers\n",
    "import json\n",
    "es = Elasticsearch()\n",
    "processed_dir = join(project_dir, 'data', 'processed')\n"
   ]
  },
  {
   "cell_type": "code",
   "execution_count": 23,
   "metadata": {},
   "outputs": [
    {
     "name": "stderr",
     "output_type": "stream",
     "text": [
      "2020-08-07 14:32:38,756 - elasticsearch - INFO - POST http://localhost:9200/twitter/_count [status:200 request:0.002s]\n"
     ]
    },
    {
     "data": {
      "text/plain": [
       "455471"
      ]
     },
     "execution_count": 23,
     "metadata": {},
     "output_type": "execute_result"
    }
   ],
   "source": [
    "es.count(index='twitter')['count']"
   ]
  },
  {
   "cell_type": "code",
   "execution_count": 32,
   "metadata": {},
   "outputs": [
    {
     "name": "stderr",
     "output_type": "stream",
     "text": [
      "2020-08-07 15:05:35,684 - elasticsearch - INFO - POST http://localhost:9200/twitter/_search?scroll=3s [status:200 request:0.338s]\n",
      "2020-08-07 15:05:37,426 - elasticsearch - INFO - POST http://localhost:9200/_search/scroll?scroll=2s [status:200 request:0.384s]\n"
     ]
    },
    {
     "name": "stdout",
     "output_type": "stream",
     "text": [
      "10000\n"
     ]
    },
    {
     "name": "stderr",
     "output_type": "stream",
     "text": [
      "2020-08-07 15:05:39,743 - elasticsearch - INFO - POST http://localhost:9200/_search/scroll?scroll=2s [status:200 request:0.413s]\n"
     ]
    },
    {
     "name": "stdout",
     "output_type": "stream",
     "text": [
      "10000\n"
     ]
    },
    {
     "name": "stderr",
     "output_type": "stream",
     "text": [
      "2020-08-07 15:05:41,808 - elasticsearch - INFO - POST http://localhost:9200/_search/scroll?scroll=2s [status:200 request:0.382s]\n"
     ]
    },
    {
     "name": "stdout",
     "output_type": "stream",
     "text": [
      "10000\n"
     ]
    },
    {
     "name": "stderr",
     "output_type": "stream",
     "text": [
      "2020-08-07 15:05:44,306 - elasticsearch - INFO - POST http://localhost:9200/_search/scroll?scroll=2s [status:200 request:0.434s]\n"
     ]
    },
    {
     "name": "stdout",
     "output_type": "stream",
     "text": [
      "10000\n"
     ]
    },
    {
     "name": "stderr",
     "output_type": "stream",
     "text": [
      "2020-08-07 15:05:46,103 - elasticsearch - INFO - POST http://localhost:9200/_search/scroll?scroll=2s [status:200 request:0.381s]\n"
     ]
    },
    {
     "name": "stdout",
     "output_type": "stream",
     "text": [
      "10000\n"
     ]
    },
    {
     "name": "stderr",
     "output_type": "stream",
     "text": [
      "2020-08-07 15:05:48,556 - elasticsearch - INFO - POST http://localhost:9200/_search/scroll?scroll=2s [status:200 request:0.369s]\n"
     ]
    },
    {
     "name": "stdout",
     "output_type": "stream",
     "text": [
      "10000\n"
     ]
    },
    {
     "name": "stderr",
     "output_type": "stream",
     "text": [
      "2020-08-07 15:05:50,173 - elasticsearch - INFO - POST http://localhost:9200/_search/scroll?scroll=2s [status:200 request:0.350s]\n"
     ]
    },
    {
     "name": "stdout",
     "output_type": "stream",
     "text": [
      "10000\n"
     ]
    },
    {
     "name": "stderr",
     "output_type": "stream",
     "text": [
      "2020-08-07 15:05:52,142 - elasticsearch - INFO - POST http://localhost:9200/_search/scroll?scroll=2s [status:200 request:0.371s]\n"
     ]
    },
    {
     "name": "stdout",
     "output_type": "stream",
     "text": [
      "10000\n"
     ]
    },
    {
     "name": "stderr",
     "output_type": "stream",
     "text": [
      "2020-08-07 15:05:53,642 - elasticsearch - INFO - POST http://localhost:9200/_search/scroll?scroll=2s [status:200 request:0.348s]\n"
     ]
    },
    {
     "name": "stdout",
     "output_type": "stream",
     "text": [
      "10000\n"
     ]
    },
    {
     "name": "stderr",
     "output_type": "stream",
     "text": [
      "2020-08-07 15:05:55,108 - elasticsearch - INFO - POST http://localhost:9200/_search/scroll?scroll=2s [status:200 request:0.322s]\n"
     ]
    },
    {
     "name": "stdout",
     "output_type": "stream",
     "text": [
      "10000\n"
     ]
    },
    {
     "name": "stderr",
     "output_type": "stream",
     "text": [
      "2020-08-07 15:05:56,873 - elasticsearch - INFO - POST http://localhost:9200/_search/scroll?scroll=2s [status:200 request:0.310s]\n"
     ]
    },
    {
     "name": "stdout",
     "output_type": "stream",
     "text": [
      "10000\n"
     ]
    },
    {
     "name": "stderr",
     "output_type": "stream",
     "text": [
      "2020-08-07 15:05:58,496 - elasticsearch - INFO - POST http://localhost:9200/_search/scroll?scroll=2s [status:200 request:0.374s]\n"
     ]
    },
    {
     "name": "stdout",
     "output_type": "stream",
     "text": [
      "10000\n"
     ]
    },
    {
     "name": "stderr",
     "output_type": "stream",
     "text": [
      "2020-08-07 15:06:00,585 - elasticsearch - INFO - POST http://localhost:9200/_search/scroll?scroll=2s [status:200 request:0.383s]\n"
     ]
    },
    {
     "name": "stdout",
     "output_type": "stream",
     "text": [
      "10000\n"
     ]
    },
    {
     "name": "stderr",
     "output_type": "stream",
     "text": [
      "2020-08-07 15:06:02,400 - elasticsearch - INFO - POST http://localhost:9200/_search/scroll?scroll=2s [status:200 request:0.389s]\n"
     ]
    },
    {
     "name": "stdout",
     "output_type": "stream",
     "text": [
      "10000\n"
     ]
    },
    {
     "name": "stderr",
     "output_type": "stream",
     "text": [
      "2020-08-07 15:06:04,516 - elasticsearch - INFO - POST http://localhost:9200/_search/scroll?scroll=2s [status:200 request:0.360s]\n"
     ]
    },
    {
     "name": "stdout",
     "output_type": "stream",
     "text": [
      "10000\n"
     ]
    },
    {
     "name": "stderr",
     "output_type": "stream",
     "text": [
      "2020-08-07 15:06:06,182 - elasticsearch - INFO - POST http://localhost:9200/_search/scroll?scroll=2s [status:200 request:0.371s]\n"
     ]
    },
    {
     "name": "stdout",
     "output_type": "stream",
     "text": [
      "10000\n"
     ]
    },
    {
     "name": "stderr",
     "output_type": "stream",
     "text": [
      "2020-08-07 15:06:08,085 - elasticsearch - INFO - POST http://localhost:9200/_search/scroll?scroll=2s [status:200 request:0.362s]\n"
     ]
    },
    {
     "name": "stdout",
     "output_type": "stream",
     "text": [
      "10000\n"
     ]
    },
    {
     "name": "stderr",
     "output_type": "stream",
     "text": [
      "2020-08-07 15:06:09,652 - elasticsearch - INFO - POST http://localhost:9200/_search/scroll?scroll=2s [status:200 request:0.334s]\n"
     ]
    },
    {
     "name": "stdout",
     "output_type": "stream",
     "text": [
      "10000\n"
     ]
    },
    {
     "name": "stderr",
     "output_type": "stream",
     "text": [
      "2020-08-07 15:06:11,292 - elasticsearch - INFO - POST http://localhost:9200/_search/scroll?scroll=2s [status:200 request:0.383s]\n"
     ]
    },
    {
     "name": "stdout",
     "output_type": "stream",
     "text": [
      "10000\n"
     ]
    },
    {
     "name": "stderr",
     "output_type": "stream",
     "text": [
      "2020-08-07 15:06:13,285 - elasticsearch - INFO - POST http://localhost:9200/_search/scroll?scroll=2s [status:200 request:0.365s]\n"
     ]
    },
    {
     "name": "stdout",
     "output_type": "stream",
     "text": [
      "10000\n"
     ]
    },
    {
     "name": "stderr",
     "output_type": "stream",
     "text": [
      "2020-08-07 15:06:14,939 - elasticsearch - INFO - POST http://localhost:9200/_search/scroll?scroll=2s [status:200 request:0.399s]\n"
     ]
    },
    {
     "name": "stdout",
     "output_type": "stream",
     "text": [
      "10000\n"
     ]
    },
    {
     "name": "stderr",
     "output_type": "stream",
     "text": [
      "2020-08-07 15:06:16,826 - elasticsearch - INFO - POST http://localhost:9200/_search/scroll?scroll=2s [status:200 request:0.356s]\n"
     ]
    },
    {
     "name": "stdout",
     "output_type": "stream",
     "text": [
      "10000\n"
     ]
    },
    {
     "name": "stderr",
     "output_type": "stream",
     "text": [
      "2020-08-07 15:06:18,406 - elasticsearch - INFO - POST http://localhost:9200/_search/scroll?scroll=2s [status:200 request:0.355s]\n"
     ]
    },
    {
     "name": "stdout",
     "output_type": "stream",
     "text": [
      "10000\n"
     ]
    },
    {
     "name": "stderr",
     "output_type": "stream",
     "text": [
      "2020-08-07 15:06:19,905 - elasticsearch - INFO - POST http://localhost:9200/_search/scroll?scroll=2s [status:200 request:0.369s]\n"
     ]
    },
    {
     "name": "stdout",
     "output_type": "stream",
     "text": [
      "10000\n"
     ]
    },
    {
     "name": "stderr",
     "output_type": "stream",
     "text": [
      "2020-08-07 15:06:21,740 - elasticsearch - INFO - POST http://localhost:9200/_search/scroll?scroll=2s [status:200 request:0.364s]\n"
     ]
    },
    {
     "name": "stdout",
     "output_type": "stream",
     "text": [
      "10000\n"
     ]
    },
    {
     "name": "stderr",
     "output_type": "stream",
     "text": [
      "2020-08-07 15:06:23,273 - elasticsearch - INFO - POST http://localhost:9200/_search/scroll?scroll=2s [status:200 request:0.357s]\n"
     ]
    },
    {
     "name": "stdout",
     "output_type": "stream",
     "text": [
      "10000\n"
     ]
    },
    {
     "name": "stderr",
     "output_type": "stream",
     "text": [
      "2020-08-07 15:06:25,083 - elasticsearch - INFO - POST http://localhost:9200/_search/scroll?scroll=2s [status:200 request:0.358s]\n"
     ]
    },
    {
     "name": "stdout",
     "output_type": "stream",
     "text": [
      "10000\n"
     ]
    },
    {
     "name": "stderr",
     "output_type": "stream",
     "text": [
      "2020-08-07 15:06:26,646 - elasticsearch - INFO - POST http://localhost:9200/_search/scroll?scroll=2s [status:200 request:0.343s]\n"
     ]
    },
    {
     "name": "stdout",
     "output_type": "stream",
     "text": [
      "10000\n"
     ]
    },
    {
     "name": "stderr",
     "output_type": "stream",
     "text": [
      "2020-08-07 15:06:28,457 - elasticsearch - INFO - POST http://localhost:9200/_search/scroll?scroll=2s [status:200 request:0.336s]\n"
     ]
    },
    {
     "name": "stdout",
     "output_type": "stream",
     "text": [
      "10000\n"
     ]
    },
    {
     "name": "stderr",
     "output_type": "stream",
     "text": [
      "2020-08-07 15:06:29,963 - elasticsearch - INFO - POST http://localhost:9200/_search/scroll?scroll=2s [status:200 request:0.370s]\n"
     ]
    },
    {
     "name": "stdout",
     "output_type": "stream",
     "text": [
      "10000\n"
     ]
    },
    {
     "name": "stderr",
     "output_type": "stream",
     "text": [
      "2020-08-07 15:06:31,444 - elasticsearch - INFO - POST http://localhost:9200/_search/scroll?scroll=2s [status:200 request:0.353s]\n"
     ]
    },
    {
     "name": "stdout",
     "output_type": "stream",
     "text": [
      "10000\n"
     ]
    },
    {
     "name": "stderr",
     "output_type": "stream",
     "text": [
      "2020-08-07 15:06:33,267 - elasticsearch - INFO - POST http://localhost:9200/_search/scroll?scroll=2s [status:200 request:0.373s]\n"
     ]
    },
    {
     "name": "stdout",
     "output_type": "stream",
     "text": [
      "10000\n"
     ]
    },
    {
     "name": "stderr",
     "output_type": "stream",
     "text": [
      "2020-08-07 15:06:34,911 - elasticsearch - INFO - POST http://localhost:9200/_search/scroll?scroll=2s [status:200 request:0.383s]\n"
     ]
    },
    {
     "name": "stdout",
     "output_type": "stream",
     "text": [
      "10000\n"
     ]
    },
    {
     "name": "stderr",
     "output_type": "stream",
     "text": [
      "2020-08-07 15:06:36,807 - elasticsearch - INFO - POST http://localhost:9200/_search/scroll?scroll=2s [status:200 request:0.361s]\n"
     ]
    },
    {
     "name": "stdout",
     "output_type": "stream",
     "text": [
      "10000\n"
     ]
    },
    {
     "name": "stderr",
     "output_type": "stream",
     "text": [
      "2020-08-07 15:06:38,411 - elasticsearch - INFO - POST http://localhost:9200/_search/scroll?scroll=2s [status:200 request:0.377s]\n"
     ]
    },
    {
     "name": "stdout",
     "output_type": "stream",
     "text": [
      "10000\n"
     ]
    },
    {
     "name": "stderr",
     "output_type": "stream",
     "text": [
      "2020-08-07 15:06:40,377 - elasticsearch - INFO - POST http://localhost:9200/_search/scroll?scroll=2s [status:200 request:0.375s]\n"
     ]
    },
    {
     "name": "stdout",
     "output_type": "stream",
     "text": [
      "10000\n"
     ]
    },
    {
     "name": "stderr",
     "output_type": "stream",
     "text": [
      "2020-08-07 15:06:42,026 - elasticsearch - INFO - POST http://localhost:9200/_search/scroll?scroll=2s [status:200 request:0.374s]\n"
     ]
    },
    {
     "name": "stdout",
     "output_type": "stream",
     "text": [
      "10000\n"
     ]
    },
    {
     "name": "stderr",
     "output_type": "stream",
     "text": [
      "2020-08-07 15:06:44,036 - elasticsearch - INFO - POST http://localhost:9200/_search/scroll?scroll=2s [status:200 request:0.354s]\n"
     ]
    },
    {
     "name": "stdout",
     "output_type": "stream",
     "text": [
      "10000\n"
     ]
    },
    {
     "name": "stderr",
     "output_type": "stream",
     "text": [
      "2020-08-07 15:06:45,713 - elasticsearch - INFO - POST http://localhost:9200/_search/scroll?scroll=2s [status:200 request:0.357s]\n"
     ]
    },
    {
     "name": "stdout",
     "output_type": "stream",
     "text": [
      "10000\n"
     ]
    },
    {
     "name": "stderr",
     "output_type": "stream",
     "text": [
      "2020-08-07 15:06:47,296 - elasticsearch - INFO - POST http://localhost:9200/_search/scroll?scroll=2s [status:200 request:0.339s]\n"
     ]
    },
    {
     "name": "stdout",
     "output_type": "stream",
     "text": [
      "10000\n"
     ]
    },
    {
     "name": "stderr",
     "output_type": "stream",
     "text": [
      "2020-08-07 15:06:49,056 - elasticsearch - INFO - POST http://localhost:9200/_search/scroll?scroll=2s [status:200 request:0.331s]\n"
     ]
    },
    {
     "name": "stdout",
     "output_type": "stream",
     "text": [
      "10000\n"
     ]
    },
    {
     "name": "stderr",
     "output_type": "stream",
     "text": [
      "2020-08-07 15:06:50,675 - elasticsearch - INFO - POST http://localhost:9200/_search/scroll?scroll=2s [status:200 request:0.339s]\n"
     ]
    },
    {
     "name": "stdout",
     "output_type": "stream",
     "text": [
      "10000\n"
     ]
    },
    {
     "name": "stderr",
     "output_type": "stream",
     "text": [
      "2020-08-07 15:06:52,660 - elasticsearch - INFO - POST http://localhost:9200/_search/scroll?scroll=2s [status:200 request:0.333s]\n"
     ]
    },
    {
     "name": "stdout",
     "output_type": "stream",
     "text": [
      "10000\n"
     ]
    },
    {
     "name": "stderr",
     "output_type": "stream",
     "text": [
      "2020-08-07 15:06:54,227 - elasticsearch - INFO - POST http://localhost:9200/_search/scroll?scroll=2s [status:200 request:0.307s]\n"
     ]
    },
    {
     "name": "stdout",
     "output_type": "stream",
     "text": [
      "10000\n"
     ]
    },
    {
     "name": "stderr",
     "output_type": "stream",
     "text": [
      "2020-08-07 15:06:55,991 - elasticsearch - INFO - POST http://localhost:9200/_search/scroll?scroll=2s [status:200 request:0.189s]\n"
     ]
    },
    {
     "name": "stdout",
     "output_type": "stream",
     "text": [
      "5471\n"
     ]
    },
    {
     "name": "stderr",
     "output_type": "stream",
     "text": [
      "2020-08-07 15:06:56,775 - elasticsearch - INFO - POST http://localhost:9200/_search/scroll?scroll=2s [status:200 request:0.002s]\n"
     ]
    },
    {
     "name": "stdout",
     "output_type": "stream",
     "text": [
      "0\n"
     ]
    }
   ],
   "source": [
    "i = 0\n",
    "resp = es.search(\n",
    "    index=\"twitter\",\n",
    "     body={\n",
    "        \"size\":10000,\n",
    "         \"query\": {\n",
    "             \"match_all\": {\n",
    "             }\n",
    "         }\n",
    "    },\n",
    "    scroll='3s'\n",
    ")\n",
    "old_scroll_id = resp['_scroll_id']\n",
    "with open(join(processed_dir,f'test_data_{i}.json'),'w') as f:\n",
    "    json.dump(resp['hits']['hits'],f)\n",
    "    \n",
    "# use a 'while' iterator to loop over document 'hits'\n",
    "while len(resp['hits']['hits']):\n",
    "\n",
    "    # make a request using the Scroll API\n",
    "    resp = es.scroll(\n",
    "        scroll_id = old_scroll_id,\n",
    "        scroll = '2s' # length of time to keep search context\n",
    "    )\n",
    "\n",
    "    # check if there's a new scroll ID\n",
    "    if old_scroll_id != resp['_scroll_id']:\n",
    "        print (\"NEW SCROLL ID:\", resp['_scroll_id'])\n",
    "\n",
    "    # keep track of pass scroll _id\n",
    "    old_scroll_id = resp['_scroll_id']\n",
    "    print(len(resp['hits']['hits']))\n",
    "    i += 1\n",
    "    with open(join(processed_dir,f'test_data_{i}.json'),'w') as f:\n",
    "        json.dump(resp['hits']['hits'],f)\n",
    "        \n",
    "\n"
   ]
  },
  {
   "cell_type": "code",
   "execution_count": null,
   "metadata": {},
   "outputs": [],
   "source": []
  }
 ],
 "metadata": {
  "kernelspec": {
   "display_name": "Python 3",
   "language": "python",
   "name": "python3"
  },
  "language_info": {
   "codemirror_mode": {
    "name": "ipython",
    "version": 3
   },
   "file_extension": ".py",
   "mimetype": "text/x-python",
   "name": "python",
   "nbconvert_exporter": "python",
   "pygments_lexer": "ipython3",
   "version": "3.7.5"
  }
 },
 "nbformat": 4,
 "nbformat_minor": 4
}
